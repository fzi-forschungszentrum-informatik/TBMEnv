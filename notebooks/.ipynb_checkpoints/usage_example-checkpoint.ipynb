{
 "cells": [
  {
   "cell_type": "markdown",
   "id": "5214c9fc-0587-4473-bdcb-a5ea3424769a",
   "metadata": {},
   "source": [
    "# Example for Intended Usage of Environment"
   ]
  },
  {
   "cell_type": "code",
   "execution_count": 1,
   "id": "df8f29e6-4c0b-4e92-9122-51c56fc8e6af",
   "metadata": {},
   "outputs": [],
   "source": [
    "import numpy as np\n",
    "import pandas as pd\n",
    "from tbmenv import Scenario2\n",
    "from tbmenv import Baseline2"
   ]
  },
  {
   "cell_type": "markdown",
   "id": "b7c6adcf-05c1-4180-978b-382911a57c6c",
   "metadata": {},
   "source": [
    "## Define the Evaluated Model\n",
    "For simplicities sake, let's assume you would wish to evaluate the performance of a persistance model."
   ]
  },
  {
   "cell_type": "code",
   "execution_count": 2,
   "id": "9235e9cc-ab0d-416a-bfe5-e75745cfa619",
   "metadata": {},
   "outputs": [],
   "source": [
    "class ThermalModel:\n",
    "    \"\"\"\n",
    "    Simple persistance model to showcase the intended interaction with TBMEnv.\n",
    "    \"\"\"\n",
    "\n",
    "    def observe(self, obs, actions, disturbances):\n",
    "        \"\"\"\n",
    "        Do something with the data emitted by the environment.\n",
    "\n",
    "        NOTE: As this is a persistance model, only the observations\n",
    "              actions and disturbances that have been observed most\n",
    "              recently are of interested. A more sophisticated model\n",
    "              would likely keep a copy of all the available data in\n",
    "              order to estimate some parameters or train a neural\n",
    "              network.\n",
    "\n",
    "        Arguments:\n",
    "        ----------\n",
    "        obs : pandas.DataFrame\n",
    "            The observed values corresponding to the state variables to\n",
    "            predict that would have been generated since the last step.\n",
    "        actions : pandas.DataFrame\n",
    "            The actions that should be considered in the state prediction.\n",
    "        disturbances : pandas.DataFrame\n",
    "            The forcast of disturbances that should be considered in the\n",
    "            state prediction.\n",
    "        \"\"\"\n",
    "        self.last_obs = obs\n",
    "        self.last_actions = actions\n",
    "        self.last_disturbances = disturbances\n",
    "\n",
    "\n",
    "    def predict(self):\n",
    "        \"\"\"\n",
    "        Make a prediction for the zone temperature.\n",
    "\n",
    "        NOTE: As this is a persistance model, it will only use the last\n",
    "              value of the `obs` DataFrame. A more sophisticed approach\n",
    "              would likely make use of `actions` and `disturbances` too\n",
    "              in order to produce a better prediction. See the the source\n",
    "              code of the baselines for respective examples.\n",
    "\n",
    "        Returns:\n",
    "        ----------\n",
    "        predicted_states : pandas.DataFrame\n",
    "            A dataframe holding the prediction for the upcomming time steps.\n",
    "        \"\"\"\n",
    "        predicted_states = pd.DataFrame(\n",
    "            # last_actions index starts at 4am, but predictions are only\n",
    "            # expected by the env after 5am.\n",
    "            index=self.last_actions.index[12:],\n",
    "            data={\"T_z\": self.last_obs[\"T_z\"].iloc[-1]},\n",
    "        )\n",
    "        return predicted_states\n"
   ]
  },
  {
   "cell_type": "markdown",
   "id": "b22124d1-fbd8-497d-88f2-03d2123c1ba5",
   "metadata": {},
   "source": [
    "## Evaluate the Model using TBMEnv"
   ]
  },
  {
   "cell_type": "code",
   "execution_count": 3,
   "id": "16f8c041-c4ee-41d1-b857-3a07cbf8bd80",
   "metadata": {},
   "outputs": [
    {
     "name": "stdout",
     "output_type": "stream",
     "text": [
      "The mean average error of the perstiance model is 1.58°C\n"
     ]
    }
   ],
   "source": [
    "env = Scenario2()\n",
    "model = ThermalModel()\n",
    "\n",
    "for obs, actions, disturbances in zip(*env.get_training_data()):\n",
    "    # NOTE: This is pointless for the persistance model but left here to\n",
    "    #       demonstrate typical interaction for more sophistiaceted models.\n",
    "    model.observe(obs, actions, disturbances)\n",
    "\n",
    "model.observe(*env.reset())\n",
    "\n",
    "done = False\n",
    "while not done:\n",
    "    predicted_states = model.predict()\n",
    "    obs, actions, disturbances, done = env.step(predicted_states)\n",
    "    model.observe(obs, actions, disturbances)\n",
    "\n",
    "pm_persistance = env.compute_performance_measure()\n",
    "print(f\"The mean average error of the perstiance model is {pm_persistance:.2f}°C\")"
   ]
  },
  {
   "cell_type": "markdown",
   "id": "fc5a0fe7-8e04-4c61-84a8-98a13d9ba060",
   "metadata": {},
   "source": [
    "## Evaluate the Baseline as Reference"
   ]
  },
  {
   "cell_type": "code",
   "execution_count": 4,
   "id": "e4435b5c-09c8-4010-9d0e-0b62a2d4b430",
   "metadata": {},
   "outputs": [
    {
     "name": "stdout",
     "output_type": "stream",
     "text": [
      "The mean average error of the baseline model is 0.37°C\n"
     ]
    }
   ],
   "source": [
    "env = Scenario2()\n",
    "model = Baseline2()\n",
    "\n",
    "for obs, actions, disturbances in zip(*env.get_training_data()):\n",
    "    # NOTE: This is pointless for the persistance model but left here to\n",
    "    #       demonstrate typical interaction for more sophistiaceted models.\n",
    "    model.observe(obs, actions, disturbances)\n",
    "\n",
    "model.observe(*env.reset())\n",
    "\n",
    "done = False\n",
    "while not done:\n",
    "    predicted_states = model.predict()\n",
    "    obs, actions, disturbances, done = env.step(predicted_states)\n",
    "    model.observe(obs, actions, disturbances)\n",
    "\n",
    "pm_baseline = env.compute_performance_measure()\n",
    "print(f\"The mean average error of the baseline model is {pm_baseline:.2f}°C\")"
   ]
  },
  {
   "cell_type": "markdown",
   "id": "2868fb0f-3e2b-4b17-92da-37ed3a058d84",
   "metadata": {},
   "source": [
    "## Draw a Conclusion"
   ]
  },
  {
   "cell_type": "code",
   "execution_count": 5,
   "id": "7b4bbb42-5726-403c-b44c-09b01715d3e3",
   "metadata": {},
   "outputs": [
    {
     "name": "stdout",
     "output_type": "stream",
     "text": [
      "The baseline is 4.29 times more accurate then the persistance modelin terms of mean average error.\n"
     ]
    }
   ],
   "source": [
    "print(\n",
    "    \"The baseline is {:.2f} times more accurate then the persistance model\"\n",
    "    \"in terms of mean average error.\".format(pm_persistance / pm_baseline)\n",
    ")"
   ]
  }
 ],
 "metadata": {
  "kernelspec": {
   "display_name": "Python 3 (ipykernel)",
   "language": "python",
   "name": "python3"
  },
  "language_info": {
   "codemirror_mode": {
    "name": "ipython",
    "version": 3
   },
   "file_extension": ".py",
   "mimetype": "text/x-python",
   "name": "python",
   "nbconvert_exporter": "python",
   "pygments_lexer": "ipython3",
   "version": "3.11.6"
  }
 },
 "nbformat": 4,
 "nbformat_minor": 5
}
